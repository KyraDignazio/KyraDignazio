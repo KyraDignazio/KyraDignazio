{
  "nbformat": 4,
  "nbformat_minor": 0,
  "metadata": {
    "colab": {
      "provenance": [],
      "authorship_tag": "ABX9TyOen1MPDKyFNLE0ocDTUq4a",
      "include_colab_link": true
    },
    "kernelspec": {
      "name": "python3",
      "display_name": "Python 3"
    },
    "language_info": {
      "name": "python"
    }
  },
  "cells": [
    {
      "cell_type": "markdown",
      "metadata": {
        "id": "view-in-github",
        "colab_type": "text"
      },
      "source": [
        "<a href=\"https://colab.research.google.com/github/KyraDignazio/KyraDignazio/blob/main/CR3.ipynb\" target=\"_parent\"><img src=\"https://colab.research.google.com/assets/colab-badge.svg\" alt=\"Open In Colab\"/></a>"
      ]
    },
    {
      "cell_type": "code",
      "execution_count": null,
      "metadata": {
        "id": "Fi3V7U-lg_2W"
      },
      "outputs": [],
      "source": []
    },
    {
      "cell_type": "code",
      "execution_count": 6,
      "metadata": {
        "id": "HxqTXfhUqc4K",
        "outputId": "aadbadba-6a90-4cdc-ad89-ea2bdd0f71d6",
        "colab": {
          "base_uri": "https://localhost:8080/"
        }
      },
      "outputs": [
        {
          "output_type": "execute_result",
          "data": {
            "text/plain": [
              "44"
            ]
          },
          "metadata": {},
          "execution_count": 6
        }
      ],
      "source": [
        "def even_sum(n):\n",
        "    i, j = 1, 1  # First two Fibonacci numbers\n",
        "    total = 0\n",
        "    while j <= n:  # Continue while Fibonacci numbers are <= n\n",
        "        if j % 2 == 0:  # Check if current Fibonacci number is even\n",
        "            total += j  # Add even Fibonacci number to the total\n",
        "        k = i + j  # Generate next Fibonacci number\n",
        "        i = j  # Shift i to previous j\n",
        "        j = k  # Move j to the newly calculated Fibonacci number\n",
        "    return total  # Return the sum of even Fibonacci numbers up to n\n",
        "\n",
        "\n",
        "\n",
        "\n"
      ]
    }
  ]
}